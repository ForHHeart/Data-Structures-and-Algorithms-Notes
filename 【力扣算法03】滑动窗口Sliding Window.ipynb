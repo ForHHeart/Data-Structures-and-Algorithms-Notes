{
 "cells": [
  {
   "cell_type": "markdown",
   "id": "5cde8922",
   "metadata": {},
   "source": [
    "# 滑动窗口Sliding Window"
   ]
  },
  {
   "cell_type": "markdown",
   "id": "95c34b50",
   "metadata": {},
   "source": [
    "## 一、基础知识"
   ]
  },
  {
   "cell_type": "code",
   "execution_count": null,
   "id": "de72198b",
   "metadata": {},
   "outputs": [],
   "source": []
  },
  {
   "cell_type": "markdown",
   "id": "372ca7dc",
   "metadata": {},
   "source": [
    "## 二、LeetCode相关题"
   ]
  },
  {
   "cell_type": "markdown",
   "id": "de717aeb",
   "metadata": {},
   "source": [
    "**leetcode 209.长度最小的子数组**：https://leetcode.cn/problems/minimum-size-subarray-sum/"
   ]
  },
  {
   "cell_type": "code",
   "execution_count": null,
   "id": "71b87e28",
   "metadata": {},
   "outputs": [],
   "source": []
  },
  {
   "cell_type": "markdown",
   "id": "191d7fdd",
   "metadata": {},
   "source": [
    "**leetcode 1456.定长子串中元音的最大数目**：https://leetcode.cn/problems/maximum-number-of-vowels-in-a-substring-of-given-length/"
   ]
  },
  {
   "cell_type": "code",
   "execution_count": null,
   "id": "5fcb13ca",
   "metadata": {},
   "outputs": [],
   "source": []
  }
 ],
 "metadata": {
  "kernelspec": {
   "display_name": "Python 3 (ipykernel)",
   "language": "python",
   "name": "python3"
  },
  "language_info": {
   "codemirror_mode": {
    "name": "ipython",
    "version": 3
   },
   "file_extension": ".py",
   "mimetype": "text/x-python",
   "name": "python",
   "nbconvert_exporter": "python",
   "pygments_lexer": "ipython3",
   "version": "3.9.7"
  }
 },
 "nbformat": 4,
 "nbformat_minor": 5
}
