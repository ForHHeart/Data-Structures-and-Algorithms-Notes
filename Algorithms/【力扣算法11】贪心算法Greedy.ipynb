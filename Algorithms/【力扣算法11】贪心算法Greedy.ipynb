{
 "cells": [
  {
   "cell_type": "markdown",
   "id": "5cde8922",
   "metadata": {},
   "source": [
    "# 贪心算法Greedy"
   ]
  },
  {
   "cell_type": "markdown",
   "id": "95c34b50",
   "metadata": {},
   "source": [
    "## 一、基础知识"
   ]
  },
  {
   "cell_type": "code",
   "execution_count": null,
   "id": "de72198b",
   "metadata": {},
   "outputs": [],
   "source": []
  },
  {
   "cell_type": "code",
   "execution_count": null,
   "id": "be05a27e",
   "metadata": {},
   "outputs": [],
   "source": []
  }
 ],
 "metadata": {
  "kernelspec": {
   "display_name": "Python 3 (ipykernel)",
   "language": "python",
   "name": "python3"
  },
  "language_info": {
   "codemirror_mode": {
    "name": "ipython",
    "version": 3
   },
   "file_extension": ".py",
   "mimetype": "text/x-python",
   "name": "python",
   "nbconvert_exporter": "python",
   "pygments_lexer": "ipython3",
   "version": "3.9.7"
  }
 },
 "nbformat": 4,
 "nbformat_minor": 5
}
