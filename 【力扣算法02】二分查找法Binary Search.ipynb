{
 "cells": [
  {
   "cell_type": "markdown",
   "id": "5cde8922",
   "metadata": {},
   "source": [
    "# 二分查找法Binary Search"
   ]
  },
  {
   "cell_type": "markdown",
   "id": "95c34b50",
   "metadata": {},
   "source": [
    "## 一、基础知识"
   ]
  },
  {
   "cell_type": "code",
   "execution_count": null,
   "id": "de72198b",
   "metadata": {},
   "outputs": [],
   "source": []
  },
  {
   "cell_type": "markdown",
   "id": "c23d15a2",
   "metadata": {},
   "source": [
    "## 二、LeetCode相关题目"
   ]
  },
  {
   "cell_type": "markdown",
   "id": "48d31590",
   "metadata": {},
   "source": [
    "**leetcode 704.二分查找**：https://leetcode.cn/problems/binary-search/"
   ]
  },
  {
   "cell_type": "code",
   "execution_count": null,
   "id": "71b87e28",
   "metadata": {},
   "outputs": [],
   "source": []
  },
  {
   "cell_type": "markdown",
   "id": "e00d6cd9",
   "metadata": {},
   "source": [
    "**leetcode 35.搜索插入位置**：https://leetcode.cn/problems/search-insert-position/"
   ]
  },
  {
   "cell_type": "code",
   "execution_count": null,
   "id": "cb225f72",
   "metadata": {},
   "outputs": [],
   "source": []
  },
  {
   "cell_type": "markdown",
   "id": "83c3b71b",
   "metadata": {},
   "source": [
    "**leetcode 162.寻找峰值**：https://leetcode.cn/problems/find-peak-element/"
   ]
  },
  {
   "cell_type": "code",
   "execution_count": null,
   "id": "f0b9eb88",
   "metadata": {},
   "outputs": [],
   "source": []
  },
  {
   "cell_type": "markdown",
   "id": "e69b427f",
   "metadata": {},
   "source": [
    "**leetcode 74.搜索二维矩阵**：https://leetcode.cn/problems/search-a-2d-matrix/"
   ]
  },
  {
   "cell_type": "code",
   "execution_count": null,
   "id": "be05a27e",
   "metadata": {},
   "outputs": [],
   "source": []
  }
 ],
 "metadata": {
  "kernelspec": {
   "display_name": "Python 3 (ipykernel)",
   "language": "python",
   "name": "python3"
  },
  "language_info": {
   "codemirror_mode": {
    "name": "ipython",
    "version": 3
   },
   "file_extension": ".py",
   "mimetype": "text/x-python",
   "name": "python",
   "nbconvert_exporter": "python",
   "pygments_lexer": "ipython3",
   "version": "3.9.7"
  }
 },
 "nbformat": 4,
 "nbformat_minor": 5
}
