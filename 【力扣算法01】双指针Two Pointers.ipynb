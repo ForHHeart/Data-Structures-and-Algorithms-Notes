{
 "cells": [
  {
   "cell_type": "markdown",
   "id": "5cde8922",
   "metadata": {},
   "source": [
    "# 双指针Two Pointers"
   ]
  },
  {
   "cell_type": "markdown",
   "id": "95c34b50",
   "metadata": {},
   "source": [
    "## 一、基础知识"
   ]
  },
  {
   "cell_type": "code",
   "execution_count": null,
   "id": "de72198b",
   "metadata": {},
   "outputs": [],
   "source": []
  },
  {
   "cell_type": "markdown",
   "id": "e6ebccba",
   "metadata": {},
   "source": [
    "## 二、LeetCode相关题目"
   ]
  },
  {
   "cell_type": "markdown",
   "id": "59156d71",
   "metadata": {},
   "source": [
    "**leetcode 141.环形链表**：https://leetcode.cn/problems/linked-list-cycle/"
   ]
  },
  {
   "cell_type": "code",
   "execution_count": null,
   "id": "71b87e28",
   "metadata": {},
   "outputs": [],
   "source": []
  },
  {
   "cell_type": "markdown",
   "id": "48d97e23",
   "metadata": {},
   "source": [
    "**leetcode 881.最大连续1的个数**：https://leetcode.cn/problems/max-consecutive-ones/"
   ]
  }
 ],
 "metadata": {
  "kernelspec": {
   "display_name": "Python 3 (ipykernel)",
   "language": "python",
   "name": "python3"
  },
  "language_info": {
   "codemirror_mode": {
    "name": "ipython",
    "version": 3
   },
   "file_extension": ".py",
   "mimetype": "text/x-python",
   "name": "python",
   "nbconvert_exporter": "python",
   "pygments_lexer": "ipython3",
   "version": "3.9.7"
  }
 },
 "nbformat": 4,
 "nbformat_minor": 5
}
