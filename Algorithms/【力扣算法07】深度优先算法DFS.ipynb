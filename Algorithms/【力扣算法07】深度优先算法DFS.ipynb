{
 "cells": [
  {
   "cell_type": "markdown",
   "id": "5cde8922",
   "metadata": {},
   "source": [
    "# 深度优先算法DFS"
   ]
  },
  {
   "cell_type": "markdown",
   "id": "95c34b50",
   "metadata": {},
   "source": [
    "## 一、基础知识"
   ]
  },
  {
   "cell_type": "code",
   "execution_count": null,
   "id": "de72198b",
   "metadata": {},
   "outputs": [],
   "source": []
  },
  {
   "cell_type": "markdown",
   "id": "c23d15a2",
   "metadata": {},
   "source": [
    "## 二、LeetCode相关题目"
   ]
  },
  {
   "cell_type": "markdown",
   "id": "48d31590",
   "metadata": {},
   "source": [
    "**leetcode 938.二叉搜索树的范围和**：https://leetcode.cn/problems/range-sum-of-bst/"
   ]
  },
  {
   "cell_type": "code",
   "execution_count": null,
   "id": "71b87e28",
   "metadata": {},
   "outputs": [],
   "source": []
  },
  {
   "cell_type": "markdown",
   "id": "e00d6cd9",
   "metadata": {},
   "source": [
    "**leetcode 200.岛屿数量**：https://leetcode.cn/problems/number-of-islands/"
   ]
  },
  {
   "cell_type": "code",
   "execution_count": null,
   "id": "cb225f72",
   "metadata": {},
   "outputs": [],
   "source": []
  }
 ],
 "metadata": {
  "kernelspec": {
   "display_name": "Python 3 (ipykernel)",
   "language": "python",
   "name": "python3"
  },
  "language_info": {
   "codemirror_mode": {
    "name": "ipython",
    "version": 3
   },
   "file_extension": ".py",
   "mimetype": "text/x-python",
   "name": "python",
   "nbconvert_exporter": "python",
   "pygments_lexer": "ipython3",
   "version": "3.9.7"
  }
 },
 "nbformat": 4,
 "nbformat_minor": 5
}
