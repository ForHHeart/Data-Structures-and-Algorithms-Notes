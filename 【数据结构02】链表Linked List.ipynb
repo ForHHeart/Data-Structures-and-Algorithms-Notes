{
 "cells": [
  {
   "cell_type": "markdown",
   "id": "a0b646d9",
   "metadata": {},
   "source": [
    "# 链表Linked List"
   ]
  },
  {
   "cell_type": "markdown",
   "id": "4f4da93c",
   "metadata": {},
   "source": [
    "## 一、基础知识"
   ]
  },
  {
   "cell_type": "code",
   "execution_count": null,
   "id": "2f5a406f",
   "metadata": {},
   "outputs": [],
   "source": []
  },
  {
   "cell_type": "markdown",
   "id": "1f6b05f7",
   "metadata": {},
   "source": [
    "## 二、常用操作"
   ]
  },
  {
   "cell_type": "markdown",
   "id": "3b103aa8",
   "metadata": {},
   "source": [
    "### 1.创建链表"
   ]
  },
  {
   "cell_type": "code",
   "execution_count": null,
   "id": "f681da75",
   "metadata": {},
   "outputs": [],
   "source": []
  },
  {
   "cell_type": "markdown",
   "id": "3cf12165",
   "metadata": {},
   "source": [
    "### 2.添加元素"
   ]
  },
  {
   "cell_type": "code",
   "execution_count": null,
   "id": "125e0d4b",
   "metadata": {},
   "outputs": [],
   "source": []
  },
  {
   "cell_type": "markdown",
   "id": "ddfa0f36",
   "metadata": {},
   "source": [
    "### 3.访问元素"
   ]
  },
  {
   "cell_type": "code",
   "execution_count": null,
   "id": "fd19b0f2",
   "metadata": {},
   "outputs": [],
   "source": []
  },
  {
   "cell_type": "markdown",
   "id": "0b5d7ecf",
   "metadata": {},
   "source": [
    "### 4.查找元素"
   ]
  },
  {
   "cell_type": "code",
   "execution_count": null,
   "id": "558ef81b",
   "metadata": {},
   "outputs": [],
   "source": []
  },
  {
   "cell_type": "markdown",
   "id": "6c2da738",
   "metadata": {},
   "source": [
    "### 5.删除元素"
   ]
  },
  {
   "cell_type": "code",
   "execution_count": null,
   "id": "67a2a95a",
   "metadata": {},
   "outputs": [],
   "source": []
  },
  {
   "cell_type": "markdown",
   "id": "0f96deb2",
   "metadata": {},
   "source": [
    "### 6.链表的长度"
   ]
  },
  {
   "cell_type": "code",
   "execution_count": null,
   "id": "b660b28a",
   "metadata": {},
   "outputs": [],
   "source": []
  },
  {
   "cell_type": "markdown",
   "id": "85e5dbf3",
   "metadata": {},
   "source": [
    "## 三、LeetCode相关题目"
   ]
  },
  {
   "cell_type": "markdown",
   "id": "2f276360",
   "metadata": {},
   "source": [
    "**leetcode 203.移除链表元素**：https://leetcode.cn/problems/remove-linked-list-elements/"
   ]
  },
  {
   "cell_type": "code",
   "execution_count": null,
   "id": "f0105937",
   "metadata": {},
   "outputs": [],
   "source": []
  },
  {
   "cell_type": "markdown",
   "id": "9d9d0094",
   "metadata": {},
   "source": [
    "**leetcode 206.反转链表**：https://leetcode.cn/problems/reverse-linked-list/"
   ]
  },
  {
   "cell_type": "code",
   "execution_count": null,
   "id": "e444bf06",
   "metadata": {},
   "outputs": [],
   "source": []
  }
 ],
 "metadata": {
  "kernelspec": {
   "display_name": "Python 3 (ipykernel)",
   "language": "python",
   "name": "python3"
  },
  "language_info": {
   "codemirror_mode": {
    "name": "ipython",
    "version": 3
   },
   "file_extension": ".py",
   "mimetype": "text/x-python",
   "name": "python",
   "nbconvert_exporter": "python",
   "pygments_lexer": "ipython3",
   "version": "3.9.7"
  }
 },
 "nbformat": 4,
 "nbformat_minor": 5
}
